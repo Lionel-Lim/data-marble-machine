{
 "cells": [
  {
   "cell_type": "code",
   "execution_count": 1,
   "metadata": {},
   "outputs": [],
   "source": [
    "import json\n",
    "import firebase_admin\n",
    "from firebase_admin import credentials, firestore\n",
    "from datetime import datetime\n",
    "\n"
   ]
  },
  {
   "cell_type": "code",
   "execution_count": 2,
   "metadata": {},
   "outputs": [],
   "source": [
    "# Init Firebase\n",
    "cred = credentials.Certificate(\n",
    "    \"./energycelab-firebase-adminsdk-gekvr-9b574d3de2.json\"\n",
    "\n",
    ")\n",
    "firebase_admin.initialize_app(cred)\n",
    "db = firestore.client()"
   ]
  },
  {
   "cell_type": "code",
   "execution_count": 18,
   "metadata": {},
   "outputs": [
    {
     "name": "stdout",
     "output_type": "stream",
     "text": [
      "dict_keys(['History', 'Live'])\n",
      "51430\n"
     ]
    }
   ],
   "source": [
    "def read_json(file_path):\n",
    "    with open(file_path, 'r') as f:\n",
    "        data = json.load(f)\n",
    "    return data\n",
    "\n",
    "jsonAddress = './energycelab-default-rtdb-EM-export.json'\n",
    "\n",
    "data = read_json(jsonAddress)\n",
    "print(data.keys())\n",
    "print(len(data['Live']['paul-the-prusa-3']))"
   ]
  },
  {
   "cell_type": "code",
   "execution_count": 4,
   "metadata": {},
   "outputs": [
    {
     "ename": "RetryError",
     "evalue": "Deadline of 60.0s exceeded while calling target function, last exception: 429 Quota exceeded.",
     "output_type": "error",
     "traceback": [
      "\u001b[0;31m---------------------------------------------------------------------------\u001b[0m",
      "\u001b[0;31m_InactiveRpcError\u001b[0m                         Traceback (most recent call last)",
      "File \u001b[0;32m~/.pyenv/versions/3.11.0/envs/py3_11_0/lib/python3.11/site-packages/google/api_core/grpc_helpers.py:72\u001b[0m, in \u001b[0;36m_wrap_unary_errors.<locals>.error_remapped_callable\u001b[0;34m(*args, **kwargs)\u001b[0m\n\u001b[1;32m     71\u001b[0m \u001b[39mtry\u001b[39;00m:\n\u001b[0;32m---> 72\u001b[0m     \u001b[39mreturn\u001b[39;00m callable_(\u001b[39m*\u001b[39;49margs, \u001b[39m*\u001b[39;49m\u001b[39m*\u001b[39;49mkwargs)\n\u001b[1;32m     73\u001b[0m \u001b[39mexcept\u001b[39;00m grpc\u001b[39m.\u001b[39mRpcError \u001b[39mas\u001b[39;00m exc:\n",
      "File \u001b[0;32m~/.pyenv/versions/3.11.0/envs/py3_11_0/lib/python3.11/site-packages/grpc/_channel.py:1030\u001b[0m, in \u001b[0;36m_UnaryUnaryMultiCallable.__call__\u001b[0;34m(self, request, timeout, metadata, credentials, wait_for_ready, compression)\u001b[0m\n\u001b[1;32m   1028\u001b[0m state, call, \u001b[39m=\u001b[39m \u001b[39mself\u001b[39m\u001b[39m.\u001b[39m_blocking(request, timeout, metadata, credentials,\n\u001b[1;32m   1029\u001b[0m                               wait_for_ready, compression)\n\u001b[0;32m-> 1030\u001b[0m \u001b[39mreturn\u001b[39;00m _end_unary_response_blocking(state, call, \u001b[39mFalse\u001b[39;49;00m, \u001b[39mNone\u001b[39;49;00m)\n",
      "File \u001b[0;32m~/.pyenv/versions/3.11.0/envs/py3_11_0/lib/python3.11/site-packages/grpc/_channel.py:910\u001b[0m, in \u001b[0;36m_end_unary_response_blocking\u001b[0;34m(state, call, with_call, deadline)\u001b[0m\n\u001b[1;32m    909\u001b[0m \u001b[39melse\u001b[39;00m:\n\u001b[0;32m--> 910\u001b[0m     \u001b[39mraise\u001b[39;00m _InactiveRpcError(state)\n",
      "\u001b[0;31m_InactiveRpcError\u001b[0m: <_InactiveRpcError of RPC that terminated with:\n\tstatus = StatusCode.RESOURCE_EXHAUSTED\n\tdetails = \"Quota exceeded.\"\n\tdebug_error_string = \"UNKNOWN:Error received from peer ipv6:%5B2a00:1450:4009:80b::200a%5D:443 {grpc_message:\"Quota exceeded.\", grpc_status:8, created_time:\"2023-07-21T15:54:41.77197+01:00\"}\"\n>",
      "\nThe above exception was the direct cause of the following exception:\n",
      "\u001b[0;31mResourceExhausted\u001b[0m                         Traceback (most recent call last)",
      "File \u001b[0;32m~/.pyenv/versions/3.11.0/envs/py3_11_0/lib/python3.11/site-packages/google/api_core/retry.py:191\u001b[0m, in \u001b[0;36mretry_target\u001b[0;34m(target, predicate, sleep_generator, timeout, on_error, **kwargs)\u001b[0m\n\u001b[1;32m    190\u001b[0m \u001b[39mtry\u001b[39;00m:\n\u001b[0;32m--> 191\u001b[0m     \u001b[39mreturn\u001b[39;00m target()\n\u001b[1;32m    193\u001b[0m \u001b[39m# pylint: disable=broad-except\u001b[39;00m\n\u001b[1;32m    194\u001b[0m \u001b[39m# This function explicitly must deal with broad exceptions.\u001b[39;00m\n",
      "File \u001b[0;32m~/.pyenv/versions/3.11.0/envs/py3_11_0/lib/python3.11/site-packages/google/api_core/timeout.py:120\u001b[0m, in \u001b[0;36mTimeToDeadlineTimeout.__call__.<locals>.func_with_timeout\u001b[0;34m(*args, **kwargs)\u001b[0m\n\u001b[1;32m    118\u001b[0m     kwargs[\u001b[39m\"\u001b[39m\u001b[39mtimeout\u001b[39m\u001b[39m\"\u001b[39m] \u001b[39m=\u001b[39m \u001b[39mmax\u001b[39m(\u001b[39m0\u001b[39m, \u001b[39mself\u001b[39m\u001b[39m.\u001b[39m_timeout \u001b[39m-\u001b[39m time_since_first_attempt)\n\u001b[0;32m--> 120\u001b[0m \u001b[39mreturn\u001b[39;00m func(\u001b[39m*\u001b[39;49margs, \u001b[39m*\u001b[39;49m\u001b[39m*\u001b[39;49mkwargs)\n",
      "File \u001b[0;32m~/.pyenv/versions/3.11.0/envs/py3_11_0/lib/python3.11/site-packages/google/api_core/grpc_helpers.py:74\u001b[0m, in \u001b[0;36m_wrap_unary_errors.<locals>.error_remapped_callable\u001b[0;34m(*args, **kwargs)\u001b[0m\n\u001b[1;32m     73\u001b[0m \u001b[39mexcept\u001b[39;00m grpc\u001b[39m.\u001b[39mRpcError \u001b[39mas\u001b[39;00m exc:\n\u001b[0;32m---> 74\u001b[0m     \u001b[39mraise\u001b[39;00m exceptions\u001b[39m.\u001b[39mfrom_grpc_error(exc) \u001b[39mfrom\u001b[39;00m \u001b[39mexc\u001b[39;00m\n",
      "\u001b[0;31mResourceExhausted\u001b[0m: 429 Quota exceeded.",
      "\nThe above exception was the direct cause of the following exception:\n",
      "\u001b[0;31mRetryError\u001b[0m                                Traceback (most recent call last)",
      "Cell \u001b[0;32mIn[4], line 13\u001b[0m\n\u001b[1;32m     11\u001b[0m time \u001b[39m=\u001b[39m data[\u001b[39m'\u001b[39m\u001b[39mLive\u001b[39m\u001b[39m'\u001b[39m][\u001b[39m'\u001b[39m\u001b[39moverall\u001b[39m\u001b[39m'\u001b[39m][i][\u001b[39m'\u001b[39m\u001b[39mtime\u001b[39m\u001b[39m'\u001b[39m]\n\u001b[1;32m     12\u001b[0m data[\u001b[39m'\u001b[39m\u001b[39mLive\u001b[39m\u001b[39m'\u001b[39m][\u001b[39m'\u001b[39m\u001b[39moverall\u001b[39m\u001b[39m'\u001b[39m][i][\u001b[39m'\u001b[39m\u001b[39mtime\u001b[39m\u001b[39m'\u001b[39m] \u001b[39m=\u001b[39m datetime\u001b[39m.\u001b[39mstrptime(time, \u001b[39m\"\u001b[39m\u001b[39m%\u001b[39m\u001b[39mY-\u001b[39m\u001b[39m%\u001b[39m\u001b[39mm-\u001b[39m\u001b[39m%d\u001b[39;00m\u001b[39mT\u001b[39m\u001b[39m%\u001b[39m\u001b[39mH:\u001b[39m\u001b[39m%\u001b[39m\u001b[39mM:\u001b[39m\u001b[39m%\u001b[39m\u001b[39mS\u001b[39m\u001b[39m\"\u001b[39m)\n\u001b[0;32m---> 13\u001b[0m doc_ref_live\u001b[39m.\u001b[39;49mdocument(i)\u001b[39m.\u001b[39;49mset(data[\u001b[39m'\u001b[39;49m\u001b[39mLive\u001b[39;49m\u001b[39m'\u001b[39;49m][\u001b[39m'\u001b[39;49m\u001b[39moverall\u001b[39;49m\u001b[39m'\u001b[39;49m][i])\n",
      "File \u001b[0;32m~/.pyenv/versions/3.11.0/envs/py3_11_0/lib/python3.11/site-packages/google/cloud/firestore_v1/document.py:167\u001b[0m, in \u001b[0;36mDocumentReference.set\u001b[0;34m(self, document_data, merge, retry, timeout)\u001b[0m\n\u001b[1;32m    109\u001b[0m \u001b[39m\u001b[39m\u001b[39m\"\"\"Create / replace / merge a document in the Firestore database.\u001b[39;00m\n\u001b[1;32m    110\u001b[0m \n\u001b[1;32m    111\u001b[0m \u001b[39m- To \"upsert\" a document (create if it doesn't exist, replace completely\u001b[39;00m\n\u001b[0;32m   (...)\u001b[0m\n\u001b[1;32m    164\u001b[0m \u001b[39m    result contains an ``update_time`` field.\u001b[39;00m\n\u001b[1;32m    165\u001b[0m \u001b[39m\"\"\"\u001b[39;00m\n\u001b[1;32m    166\u001b[0m batch, kwargs \u001b[39m=\u001b[39m \u001b[39mself\u001b[39m\u001b[39m.\u001b[39m_prep_set(document_data, merge, retry, timeout)\n\u001b[0;32m--> 167\u001b[0m write_results \u001b[39m=\u001b[39m batch\u001b[39m.\u001b[39;49mcommit(\u001b[39m*\u001b[39;49m\u001b[39m*\u001b[39;49mkwargs)\n\u001b[1;32m    168\u001b[0m \u001b[39mreturn\u001b[39;00m _first_write_result(write_results)\n",
      "File \u001b[0;32m~/.pyenv/versions/3.11.0/envs/py3_11_0/lib/python3.11/site-packages/google/cloud/firestore_v1/batch.py:59\u001b[0m, in \u001b[0;36mWriteBatch.commit\u001b[0;34m(self, retry, timeout)\u001b[0m\n\u001b[1;32m     43\u001b[0m \u001b[39m\u001b[39m\u001b[39m\"\"\"Commit the changes accumulated in this batch.\u001b[39;00m\n\u001b[1;32m     44\u001b[0m \n\u001b[1;32m     45\u001b[0m \u001b[39mArgs:\u001b[39;00m\n\u001b[0;32m   (...)\u001b[0m\n\u001b[1;32m     55\u001b[0m \u001b[39m    write result contains an ``update_time`` field.\u001b[39;00m\n\u001b[1;32m     56\u001b[0m \u001b[39m\"\"\"\u001b[39;00m\n\u001b[1;32m     57\u001b[0m request, kwargs \u001b[39m=\u001b[39m \u001b[39mself\u001b[39m\u001b[39m.\u001b[39m_prep_commit(retry, timeout)\n\u001b[0;32m---> 59\u001b[0m commit_response \u001b[39m=\u001b[39m \u001b[39mself\u001b[39;49m\u001b[39m.\u001b[39;49m_client\u001b[39m.\u001b[39;49m_firestore_api\u001b[39m.\u001b[39;49mcommit(\n\u001b[1;32m     60\u001b[0m     request\u001b[39m=\u001b[39;49mrequest,\n\u001b[1;32m     61\u001b[0m     metadata\u001b[39m=\u001b[39;49m\u001b[39mself\u001b[39;49m\u001b[39m.\u001b[39;49m_client\u001b[39m.\u001b[39;49m_rpc_metadata,\n\u001b[1;32m     62\u001b[0m     \u001b[39m*\u001b[39;49m\u001b[39m*\u001b[39;49mkwargs,\n\u001b[1;32m     63\u001b[0m )\n\u001b[1;32m     65\u001b[0m \u001b[39mself\u001b[39m\u001b[39m.\u001b[39m_write_pbs \u001b[39m=\u001b[39m []\n\u001b[1;32m     66\u001b[0m \u001b[39mself\u001b[39m\u001b[39m.\u001b[39mwrite_results \u001b[39m=\u001b[39m results \u001b[39m=\u001b[39m \u001b[39mlist\u001b[39m(commit_response\u001b[39m.\u001b[39mwrite_results)\n",
      "File \u001b[0;32m~/.pyenv/versions/3.11.0/envs/py3_11_0/lib/python3.11/site-packages/google/cloud/firestore_v1/services/firestore/client.py:1125\u001b[0m, in \u001b[0;36mFirestoreClient.commit\u001b[0;34m(self, request, database, writes, retry, timeout, metadata)\u001b[0m\n\u001b[1;32m   1120\u001b[0m metadata \u001b[39m=\u001b[39m \u001b[39mtuple\u001b[39m(metadata) \u001b[39m+\u001b[39m (\n\u001b[1;32m   1121\u001b[0m     gapic_v1\u001b[39m.\u001b[39mrouting_header\u001b[39m.\u001b[39mto_grpc_metadata(((\u001b[39m\"\u001b[39m\u001b[39mdatabase\u001b[39m\u001b[39m\"\u001b[39m, request\u001b[39m.\u001b[39mdatabase),)),\n\u001b[1;32m   1122\u001b[0m )\n\u001b[1;32m   1124\u001b[0m \u001b[39m# Send the request.\u001b[39;00m\n\u001b[0;32m-> 1125\u001b[0m response \u001b[39m=\u001b[39m rpc(\n\u001b[1;32m   1126\u001b[0m     request,\n\u001b[1;32m   1127\u001b[0m     retry\u001b[39m=\u001b[39;49mretry,\n\u001b[1;32m   1128\u001b[0m     timeout\u001b[39m=\u001b[39;49mtimeout,\n\u001b[1;32m   1129\u001b[0m     metadata\u001b[39m=\u001b[39;49mmetadata,\n\u001b[1;32m   1130\u001b[0m )\n\u001b[1;32m   1132\u001b[0m \u001b[39m# Done; return the response.\u001b[39;00m\n\u001b[1;32m   1133\u001b[0m \u001b[39mreturn\u001b[39;00m response\n",
      "File \u001b[0;32m~/.pyenv/versions/3.11.0/envs/py3_11_0/lib/python3.11/site-packages/google/api_core/gapic_v1/method.py:113\u001b[0m, in \u001b[0;36m_GapicCallable.__call__\u001b[0;34m(self, timeout, retry, *args, **kwargs)\u001b[0m\n\u001b[1;32m    110\u001b[0m     metadata\u001b[39m.\u001b[39mextend(\u001b[39mself\u001b[39m\u001b[39m.\u001b[39m_metadata)\n\u001b[1;32m    111\u001b[0m     kwargs[\u001b[39m\"\u001b[39m\u001b[39mmetadata\u001b[39m\u001b[39m\"\u001b[39m] \u001b[39m=\u001b[39m metadata\n\u001b[0;32m--> 113\u001b[0m \u001b[39mreturn\u001b[39;00m wrapped_func(\u001b[39m*\u001b[39;49margs, \u001b[39m*\u001b[39;49m\u001b[39m*\u001b[39;49mkwargs)\n",
      "File \u001b[0;32m~/.pyenv/versions/3.11.0/envs/py3_11_0/lib/python3.11/site-packages/google/api_core/retry.py:349\u001b[0m, in \u001b[0;36mRetry.__call__.<locals>.retry_wrapped_func\u001b[0;34m(*args, **kwargs)\u001b[0m\n\u001b[1;32m    345\u001b[0m target \u001b[39m=\u001b[39m functools\u001b[39m.\u001b[39mpartial(func, \u001b[39m*\u001b[39margs, \u001b[39m*\u001b[39m\u001b[39m*\u001b[39mkwargs)\n\u001b[1;32m    346\u001b[0m sleep_generator \u001b[39m=\u001b[39m exponential_sleep_generator(\n\u001b[1;32m    347\u001b[0m     \u001b[39mself\u001b[39m\u001b[39m.\u001b[39m_initial, \u001b[39mself\u001b[39m\u001b[39m.\u001b[39m_maximum, multiplier\u001b[39m=\u001b[39m\u001b[39mself\u001b[39m\u001b[39m.\u001b[39m_multiplier\n\u001b[1;32m    348\u001b[0m )\n\u001b[0;32m--> 349\u001b[0m \u001b[39mreturn\u001b[39;00m retry_target(\n\u001b[1;32m    350\u001b[0m     target,\n\u001b[1;32m    351\u001b[0m     \u001b[39mself\u001b[39;49m\u001b[39m.\u001b[39;49m_predicate,\n\u001b[1;32m    352\u001b[0m     sleep_generator,\n\u001b[1;32m    353\u001b[0m     \u001b[39mself\u001b[39;49m\u001b[39m.\u001b[39;49m_timeout,\n\u001b[1;32m    354\u001b[0m     on_error\u001b[39m=\u001b[39;49mon_error,\n\u001b[1;32m    355\u001b[0m )\n",
      "File \u001b[0;32m~/.pyenv/versions/3.11.0/envs/py3_11_0/lib/python3.11/site-packages/google/api_core/retry.py:207\u001b[0m, in \u001b[0;36mretry_target\u001b[0;34m(target, predicate, sleep_generator, timeout, on_error, **kwargs)\u001b[0m\n\u001b[1;32m    203\u001b[0m     next_attempt_time \u001b[39m=\u001b[39m datetime_helpers\u001b[39m.\u001b[39mutcnow() \u001b[39m+\u001b[39m datetime\u001b[39m.\u001b[39mtimedelta(\n\u001b[1;32m    204\u001b[0m         seconds\u001b[39m=\u001b[39msleep\n\u001b[1;32m    205\u001b[0m     )\n\u001b[1;32m    206\u001b[0m     \u001b[39mif\u001b[39;00m deadline \u001b[39m<\u001b[39m next_attempt_time:\n\u001b[0;32m--> 207\u001b[0m         \u001b[39mraise\u001b[39;00m exceptions\u001b[39m.\u001b[39mRetryError(\n\u001b[1;32m    208\u001b[0m             \u001b[39m\"\u001b[39m\u001b[39mDeadline of \u001b[39m\u001b[39m{:.1f}\u001b[39;00m\u001b[39ms exceeded while calling target function\u001b[39m\u001b[39m\"\u001b[39m\u001b[39m.\u001b[39mformat(\n\u001b[1;32m    209\u001b[0m                 timeout\n\u001b[1;32m    210\u001b[0m             ),\n\u001b[1;32m    211\u001b[0m             last_exc,\n\u001b[1;32m    212\u001b[0m         ) \u001b[39mfrom\u001b[39;00m \u001b[39mlast_exc\u001b[39;00m\n\u001b[1;32m    214\u001b[0m _LOGGER\u001b[39m.\u001b[39mdebug(\n\u001b[1;32m    215\u001b[0m     \u001b[39m\"\u001b[39m\u001b[39mRetrying due to \u001b[39m\u001b[39m{}\u001b[39;00m\u001b[39m, sleeping \u001b[39m\u001b[39m{:.1f}\u001b[39;00m\u001b[39ms ...\u001b[39m\u001b[39m\"\u001b[39m\u001b[39m.\u001b[39mformat(last_exc, sleep)\n\u001b[1;32m    216\u001b[0m )\n\u001b[1;32m    217\u001b[0m time\u001b[39m.\u001b[39msleep(sleep)\n",
      "\u001b[0;31mRetryError\u001b[0m: Deadline of 60.0s exceeded while calling target function, last exception: 429 Quota exceeded."
     ]
    }
   ],
   "source": [
    "doc_ref = db.collection(\"device\").document(\"UOkcczZbWlCvWeV5haM8\").collection(\"sensors\").document('overall')\n",
    "doc_ref.set({\"location\":\"UCL/OPS/107\", \"type\":\"EM\"})\n",
    "doc_ref_history = doc_ref.collection('history')\n",
    "doc_ref_live = doc_ref.collection('live')\n",
    "for i in data['History']['Overall']:\n",
    "    time = data['History']['Overall'][i]['time']\n",
    "    data['History']['Overall'][i]['time'] = datetime.strptime(time, \"%Y-%m-%dT%H:%M:%S\")\n",
    "    doc_ref_history.document(i).set(data['History']['Overall'][i])\n",
    "\n",
    "for i in data['Live']['overall']:\n",
    "    time = data['Live']['overall'][i]['time']\n",
    "    data['Live']['overall'][i]['time'] = datetime.strptime(time, \"%Y-%m-%dT%H:%M:%S\")\n",
    "    doc_ref_live.document(i).set(data['Live']['overall'][i])\n",
    "    \n"
   ]
  },
  {
   "cell_type": "code",
   "execution_count": null,
   "metadata": {},
   "outputs": [],
   "source": [
    "for key in data['History'].keys():\n",
    "    doc_ref = db.collection(\"device\").document(\"UOkcczZbWlCvWeV5haM8\").collection(\"sensors\").document(key)\n",
    "    doc_ref.set({\"location\":\"UCL/OPS/107\", \"type\":\"EM\"})\n",
    "    doc_ref_history = doc_ref.collection('history')\n",
    "    doc_ref_live = doc_ref.collection('live')\n",
    "    for i in data['History'][key]:\n",
    "        time = data['History'][key][i]['time']\n",
    "        data['History'][key][i]['time'] = datetime.strptime(time, \"%Y-%m-%dT%H:%M:%S\")\n",
    "        doc_ref_history.document(i).set(data['History'][key][i])\n",
    "\n",
    "    for i in data['Live']['overall']:\n",
    "        time = data['Live']['overall'][i]['time']\n",
    "        data['Live']['overall'][i]['time'] = datetime.strptime(time, \"%Y-%m-%dT%H:%M:%S\")\n",
    "        doc_ref_live.document(i).set(data['Live'][key][i])\n",
    "    "
   ]
  }
 ],
 "metadata": {
  "kernelspec": {
   "display_name": "py3_11_0",
   "language": "python",
   "name": "python3"
  },
  "language_info": {
   "codemirror_mode": {
    "name": "ipython",
    "version": 3
   },
   "file_extension": ".py",
   "mimetype": "text/x-python",
   "name": "python",
   "nbconvert_exporter": "python",
   "pygments_lexer": "ipython3",
   "version": "3.11.0"
  },
  "orig_nbformat": 4
 },
 "nbformat": 4,
 "nbformat_minor": 2
}
