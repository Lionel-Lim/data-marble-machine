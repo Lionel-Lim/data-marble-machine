{
 "cells": [
  {
   "cell_type": "code",
   "execution_count": 1,
   "metadata": {},
   "outputs": [],
   "source": [
    "import pandas as pd\n",
    "import json"
   ]
  },
  {
   "cell_type": "code",
   "execution_count": 2,
   "metadata": {},
   "outputs": [],
   "source": [
    "# Load JSON data\n",
    "with open('../../data/energycelab-default-rtdb-EM-export.json') as f:\n",
    "    data = json.load(f)"
   ]
  },
  {
   "cell_type": "code",
   "execution_count": 19,
   "metadata": {},
   "outputs": [],
   "source": [
    "historyOverall = []\n",
    "liveOverall = []\n",
    "\n",
    "for id, id_data in data['History']['Overall'].items():\n",
    "    row = {\n",
    "        'id': id,\n",
    "        'time': id_data['time'],\n",
    "        'today': id_data['today'],\n",
    "        'yesterday': id_data['yesterday'],\n",
    "        'total': id_data['total']\n",
    "    }\n",
    "    historyOverall.append(row)\n",
    "\n",
    "for id, id_data in data['Live']['overall'].items():\n",
    "    row = {\n",
    "        'id': id,\n",
    "        'devices': id_data['devices'],\n",
    "        'power': id_data['power'],\n",
    "        'time': id_data['time'],\n",
    "    }\n",
    "    liveOverall.append(row)"
   ]
  },
  {
   "cell_type": "code",
   "execution_count": 20,
   "metadata": {},
   "outputs": [
    {
     "name": "stdout",
     "output_type": "stream",
     "text": [
      "                       id                 time  today  yesterday      total\n",
      "0    -NZRIsscOZ8BlWvMjwk2  2023-07-03T16:12:01  0.415      0.625  417.82602\n",
      "1    -NZRbnxrCrvrV9LD0hz4  2023-07-03T17:39:01  0.470      0.625  417.87997\n",
      "2    -NZRvRwlz3w-YxZqH1De  2023-07-03T19:04:52  0.512      0.625  417.92200\n",
      "3    -NZS1JP7hxxVwseaKqFB  2023-07-03T19:34:52  0.524      0.625  417.93402\n",
      "4    -NZS8ArQTFZ809l5P3Cc  2023-07-03T20:04:52  0.535      0.625  417.94601\n",
      "..                    ...                  ...    ...        ...        ...\n",
      "342  -N_0cW5N3t0iuTNdkRt4  2023-07-10T22:08:04  0.693      0.558  422.85602\n",
      "343  -N_0jNYmp6qxNQUkx8wT  2023-07-10T22:38:04  0.709      0.558  422.87100\n",
      "344  -N_0qF-uTW_a5FHrsfav  2023-07-10T23:08:04  0.723      0.558  422.88596\n",
      "345  -N_0x6T4_Q6kMUMkWFEO  2023-07-10T23:38:04  0.739      0.558  422.90201\n",
      "346  -N_12ywI-DYDX5LtDh1R  2023-07-11T00:08:04  0.005      0.752  422.91901\n",
      "\n",
      "[347 rows x 5 columns]\n",
      "                         id  devices  power                 time\n",
      "0      -NZRCEz-N_sT7JY75dt4        7     31  2023-07-03T15:43:01\n",
      "1      -NZRCTcUYTSrxoeBBFI5        7     31  2023-07-03T15:44:01\n",
      "2      -NZRChH2ojIHGNNBQCYb        7     30  2023-07-03T15:45:01\n",
      "3      -NZRCvvXTwu4ajk0N_sj        7     30  2023-07-03T15:46:01\n",
      "4      -NZRD9_2jwZUM7UkYvXH        7     31  2023-07-03T15:47:01\n",
      "...                     ...      ...    ...                  ...\n",
      "10530  -N_13NG7r4N_w6Q8hy0f        3     34  2023-07-11T00:09:49\n",
      "10531  -N_13au_xt_3tEgPwtxE        3     34  2023-07-11T00:10:49\n",
      "10532  -N_13pZ5QOWdTl1PRn2T        3     35  2023-07-11T00:11:49\n",
      "10533  -N_143Cb7two-gV88jnH        3     32  2023-07-11T00:12:49\n",
      "10534  -N_14Hr9eZzYPHh5-fPf        3     35  2023-07-11T00:13:49\n",
      "\n",
      "[10535 rows x 4 columns]\n"
     ]
    }
   ],
   "source": [
    "historyData = pd.DataFrame(historyOverall)\n",
    "liveData = pd.DataFrame(liveOverall)\n",
    "\n",
    "print(historyData)\n",
    "print(liveData)"
   ]
  },
  {
   "cell_type": "code",
   "execution_count": 21,
   "metadata": {},
   "outputs": [],
   "source": [
    "# Save to CSV\n",
    "historyData.to_csv('history_overall.csv', index=False)\n",
    "liveData.to_csv('live_overall.csv', index=False)"
   ]
  }
 ],
 "metadata": {
  "kernelspec": {
   "display_name": "Python 3",
   "language": "python",
   "name": "python3"
  },
  "language_info": {
   "codemirror_mode": {
    "name": "ipython",
    "version": 3
   },
   "file_extension": ".py",
   "mimetype": "text/x-python",
   "name": "python",
   "nbconvert_exporter": "python",
   "pygments_lexer": "ipython3",
   "version": "3.11.0"
  },
  "orig_nbformat": 4
 },
 "nbformat": 4,
 "nbformat_minor": 2
}
